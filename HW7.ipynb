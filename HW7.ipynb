{
 "cells": [
  {
   "cell_type": "markdown",
   "metadata": {},
   "source": [
    "作業7"
   ]
  },
  {
   "cell_type": "code",
   "execution_count": 12,
   "metadata": {},
   "outputs": [],
   "source": [
    "import sympy as sp"
   ]
  },
  {
   "cell_type": "markdown",
   "metadata": {},
   "source": [
    "定義矩陣A"
   ]
  },
  {
   "cell_type": "code",
   "execution_count": 14,
   "metadata": {},
   "outputs": [],
   "source": [
    "A = sp.Matrix([[1, 2, 3],\n",
    "               [4, -1, 2],\n",
    "               [-2, 3, -4],\n",
    "               [-1, -2, -3]])"
   ]
  },
  {
   "cell_type": "markdown",
   "metadata": {},
   "source": [
    "Let Φ : R3 → R4 be a linear transformation\n",
    "B1,C1為標準基底"
   ]
  },
  {
   "cell_type": "code",
   "execution_count": 15,
   "metadata": {},
   "outputs": [],
   "source": [
    "B1 = sp.Matrix([[1,0,0],##基底B1\n",
    "                [0,1,0],\n",
    "                [0,0,1]])\n",
    "\n",
    "B2 = sp.Matrix([[1,0,1],##基底B2\n",
    "                [1,1,0],\n",
    "                [0,1,1]])\n",
    "\n",
    "C1 = sp.Matrix([[1,0,0,0],##基底C1\n",
    "                [0,1,0,0],\n",
    "                [0,0,1,0],\n",
    "                [0,0,0,1]])\n",
    "\n",
    "C2 = sp.Matrix([[1,1,0,1],##基底C2\n",
    "                [1,0,1,0],\n",
    "                [0,1,1,0],\n",
    "                [0,0,0,1]])"
   ]
  },
  {
   "cell_type": "markdown",
   "metadata": {},
   "source": [
    "定義基底S,T"
   ]
  },
  {
   "cell_type": "code",
   "execution_count": 29,
   "metadata": {},
   "outputs": [],
   "source": [
    "S = B2\n",
    "T = C2"
   ]
  },
  {
   "cell_type": "markdown",
   "metadata": {},
   "source": [
    "計算新基底之轉移矩陣A2"
   ]
  },
  {
   "cell_type": "code",
   "execution_count": 30,
   "metadata": {},
   "outputs": [
    {
     "data": {
      "text/latex": [
       "$\\displaystyle \\left[\\begin{matrix}- \\frac{32}{9} & -1 & -3\\\\- \\frac{19}{18} & - \\frac{11}{2} & - \\frac{5}{2}\\\\- \\frac{55}{18} & \\frac{1}{2} & - \\frac{9}{2}\\\\\\frac{47}{6} & \\frac{13}{2} & \\frac{19}{2}\\end{matrix}\\right]$"
      ],
      "text/plain": [
       "Matrix([\n",
       "[ -32/9,    -1,   -3],\n",
       "[-19/18, -11/2, -5/2],\n",
       "[-55/18,   1/2, -9/2],\n",
       "[  47/6,  13/2, 19/2]])"
      ]
     },
     "execution_count": 30,
     "metadata": {},
     "output_type": "execute_result"
    }
   ],
   "source": [
    "A2=T.inv()*A*S\n",
    "A2"
   ]
  },
  {
   "cell_type": "markdown",
   "metadata": {},
   "source": [
    "驗證結果"
   ]
  },
  {
   "cell_type": "code",
   "execution_count": 31,
   "metadata": {},
   "outputs": [
    {
     "data": {
      "text/plain": [
       "True"
      ]
     },
     "execution_count": 31,
     "metadata": {},
     "output_type": "execute_result"
    }
   ],
   "source": [
    "x2 = sp.Matrix([2,2,2])##以B2為基底\n",
    "x  =B2*x2\n",
    "A2*x2 == T.inv()*A*x "
   ]
  },
  {
   "cell_type": "code",
   "execution_count": null,
   "metadata": {},
   "outputs": [],
   "source": []
  },
  {
   "cell_type": "code",
   "execution_count": null,
   "metadata": {},
   "outputs": [],
   "source": []
  },
  {
   "cell_type": "code",
   "execution_count": null,
   "metadata": {},
   "outputs": [],
   "source": []
  },
  {
   "cell_type": "code",
   "execution_count": null,
   "metadata": {},
   "outputs": [],
   "source": []
  },
  {
   "cell_type": "code",
   "execution_count": null,
   "metadata": {},
   "outputs": [],
   "source": []
  }
 ],
 "metadata": {
  "kernelspec": {
   "display_name": "Python 3",
   "language": "python",
   "name": "python3"
  },
  "language_info": {
   "codemirror_mode": {
    "name": "ipython",
    "version": 3
   },
   "file_extension": ".py",
   "mimetype": "text/x-python",
   "name": "python",
   "nbconvert_exporter": "python",
   "pygments_lexer": "ipython3",
   "version": "3.7.6"
  }
 },
 "nbformat": 4,
 "nbformat_minor": 4
}
