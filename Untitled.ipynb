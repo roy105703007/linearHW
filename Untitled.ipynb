{
 "cells": [
  {
   "cell_type": "code",
   "execution_count": 2,
   "metadata": {},
   "outputs": [],
   "source": [
    "import numpy as np\n",
    "import sympy as sp"
   ]
  },
  {
   "cell_type": "code",
   "execution_count": 40,
   "metadata": {},
   "outputs": [],
   "source": [
    "#給定四個四維行列式\n",
    "x1 = sp.Matrix([1,2,3,2])\n",
    "x2 = sp.Matrix([5,2,5,9])\n",
    "x3 = sp.Matrix([1,3,6,7])\n",
    "x4 = sp.Matrix([2,4,1,1])\n",
    "a = sp.Matrix([[1,5,1,2],\n",
    "             [2,2,3,4],\n",
    "             [3,5,6,1],\n",
    "             [2,9,7,1]])"
   ]
  },
  {
   "cell_type": "code",
   "execution_count": 42,
   "metadata": {},
   "outputs": [
    {
     "data": {
      "text/latex": [
       "$\\displaystyle \\left[\\begin{matrix}\\frac{22}{51} & - \\frac{13}{51} & \\frac{13}{17} & - \\frac{31}{51}\\\\\\frac{31}{153} & - \\frac{16}{153} & - \\frac{1}{51} & \\frac{5}{153}\\\\- \\frac{58}{153} & \\frac{25}{153} & - \\frac{8}{51} & \\frac{40}{153}\\\\- \\frac{5}{153} & \\frac{47}{153} & - \\frac{13}{51} & \\frac{14}{153}\\end{matrix}\\right]$"
      ],
      "text/plain": [
       "Matrix([\n",
       "[  22/51,  -13/51,  13/17, -31/51],\n",
       "[ 31/153, -16/153,  -1/51,  5/153],\n",
       "[-58/153,  25/153,  -8/51, 40/153],\n",
       "[ -5/153,  47/153, -13/51, 14/153]])"
      ]
     },
     "execution_count": 42,
     "metadata": {},
     "output_type": "execute_result"
    }
   ],
   "source": [
    "a**(-1)"
   ]
  },
  {
   "cell_type": "code",
   "execution_count": 45,
   "metadata": {},
   "outputs": [
    {
     "data": {
      "text/latex": [
       "$\\displaystyle \\left[\\begin{matrix}1 & 11\\\\0 & 4\\end{matrix}\\right]$"
      ],
      "text/plain": [
       "Matrix([\n",
       "[1, 11],\n",
       "[0,  4]])"
      ]
     },
     "execution_count": 45,
     "metadata": {},
     "output_type": "execute_result"
    }
   ],
   "source": [
    "b = sp.Matrix([[1,5],\n",
    "             [0,2]])\n",
    "c = sp.Matrix([[1,3],\n",
    "             [0,2]])\n",
    "\n",
    "c*b"
   ]
  },
  {
   "cell_type": "code",
   "execution_count": 11,
   "metadata": {},
   "outputs": [],
   "source": [
    "M = sp.Matrix([[1, 0, 1, 3], [2, 3, 4, 7], [-1, -3, -3, -4]])"
   ]
  },
  {
   "cell_type": "code",
   "execution_count": 20,
   "metadata": {},
   "outputs": [
    {
     "data": {
      "text/plain": [
       "(Matrix([\n",
       " [1, 0,   1,   3],\n",
       " [0, 1, 2/3, 1/3],\n",
       " [0, 0,   0,   0]]),\n",
       " (0, 1))"
      ]
     },
     "execution_count": 20,
     "metadata": {},
     "output_type": "execute_result"
    }
   ],
   "source": [
    "M.rref()\n",
    "#線性獨立集最大能包含兩個向量"
   ]
  },
  {
   "cell_type": "code",
   "execution_count": 27,
   "metadata": {},
   "outputs": [],
   "source": [
    "def countIndependent(M):\n",
    "    print(len(M.rref()[1]))"
   ]
  },
  {
   "cell_type": "code",
   "execution_count": 28,
   "metadata": {},
   "outputs": [
    {
     "name": "stdout",
     "output_type": "stream",
     "text": [
      "2\n"
     ]
    }
   ],
   "source": [
    "a(M)"
   ]
  },
  {
   "cell_type": "code",
   "execution_count": 36,
   "metadata": {},
   "outputs": [],
   "source": [
    "a = sp.Matrix([[5,-2,-1,-1,-1,1],\n",
    "             [-2,6,-2,-1,-1,1],\n",
    "             [-1,-2,6,-2,-1,1],\n",
    "             [-1,-1,-2,6,-2,1],\n",
    "             [-1,-1,-1,-2,5,1]])"
   ]
  },
  {
   "cell_type": "code",
   "execution_count": 38,
   "metadata": {},
   "outputs": [
    {
     "data": {
      "text/plain": [
       "(Matrix([\n",
       " [1, 0, 0, 0, -1, 0],\n",
       " [0, 1, 0, 0, -1, 0],\n",
       " [0, 0, 1, 0, -1, 0],\n",
       " [0, 0, 0, 1, -1, 0],\n",
       " [0, 0, 0, 0,  0, 1]]),\n",
       " (0, 1, 2, 3, 5))"
      ]
     },
     "execution_count": 38,
     "metadata": {},
     "output_type": "execute_result"
    }
   ],
   "source": [
    "a.rref()"
   ]
  },
  {
   "cell_type": "code",
   "execution_count": 5,
   "metadata": {},
   "outputs": [],
   "source": [
    "b = sp.Matrix([[1],[1],[1],[1],[1]])"
   ]
  },
  {
   "cell_type": "code",
   "execution_count": 6,
   "metadata": {},
   "outputs": [
    {
     "data": {
      "text/latex": [
       "$\\displaystyle \\left[\\begin{matrix}1\\\\1\\\\1\\\\1\\\\1\\end{matrix}\\right]$"
      ],
      "text/plain": [
       "Matrix([\n",
       "[1],\n",
       "[1],\n",
       "[1],\n",
       "[1],\n",
       "[1]])"
      ]
     },
     "execution_count": 6,
     "metadata": {},
     "output_type": "execute_result"
    }
   ],
   "source": [
    "b"
   ]
  },
  {
   "cell_type": "code",
   "execution_count": 8,
   "metadata": {},
   "outputs": [
    {
     "ename": "NameError",
     "evalue": "name 'det' is not defined",
     "output_type": "error",
     "traceback": [
      "\u001b[0;31m---------------------------------------------------------------------------\u001b[0m",
      "\u001b[0;31mNameError\u001b[0m                                 Traceback (most recent call last)",
      "\u001b[0;32m<ipython-input-8-edf37132e8fe>\u001b[0m in \u001b[0;36m<module>\u001b[0;34m\u001b[0m\n\u001b[0;32m----> 1\u001b[0;31m \u001b[0mdet\u001b[0m\u001b[0;34m(\u001b[0m\u001b[0ma\u001b[0m\u001b[0;34m)\u001b[0m\u001b[0;34m\u001b[0m\u001b[0;34m\u001b[0m\u001b[0m\n\u001b[0m",
      "\u001b[0;31mNameError\u001b[0m: name 'det' is not defined"
     ]
    }
   ],
   "source": [
    "det(a)"
   ]
  },
  {
   "cell_type": "code",
   "execution_count": 9,
   "metadata": {},
   "outputs": [
    {
     "data": {
      "text/latex": [
       "$\\displaystyle \\left[\\begin{matrix}1 & 1 & 1 & 1 & 1\\\\1 & 1 & 1 & 1 & 1\\\\1 & 1 & 1 & 1 & 1\\\\1 & 1 & 1 & 1 & 1\\\\1 & 1 & 1 & 1 & 1\\end{matrix}\\right]$"
      ],
      "text/plain": [
       "Matrix([\n",
       "[1, 1, 1, 1, 1],\n",
       "[1, 1, 1, 1, 1],\n",
       "[1, 1, 1, 1, 1],\n",
       "[1, 1, 1, 1, 1],\n",
       "[1, 1, 1, 1, 1]])"
      ]
     },
     "execution_count": 9,
     "metadata": {},
     "output_type": "execute_result"
    }
   ],
   "source": [
    "b*b.T"
   ]
  },
  {
   "cell_type": "code",
   "execution_count": 10,
   "metadata": {},
   "outputs": [
    {
     "data": {
      "text/latex": [
       "$\\displaystyle \\left[\\begin{matrix}5 & -2 & -1 & -1 & -1\\\\-2 & 6 & -2 & -1 & -1\\\\-1 & -2 & 6 & -2 & -1\\\\-1 & -1 & -2 & 6 & -2\\\\-1 & -1 & -1 & -2 & 5\\end{matrix}\\right]$"
      ],
      "text/plain": [
       "Matrix([\n",
       "[ 5, -2, -1, -1, -1],\n",
       "[-2,  6, -2, -1, -1],\n",
       "[-1, -2,  6, -2, -1],\n",
       "[-1, -1, -2,  6, -2],\n",
       "[-1, -1, -1, -2,  5]])"
      ]
     },
     "execution_count": 10,
     "metadata": {},
     "output_type": "execute_result"
    }
   ],
   "source": [
    "a"
   ]
  },
  {
   "cell_type": "code",
   "execution_count": 12,
   "metadata": {},
   "outputs": [
    {
     "data": {
      "text/plain": [
       "(Matrix([\n",
       " [1, 0, 0, 0, -1],\n",
       " [0, 1, 0, 0, -1],\n",
       " [0, 0, 1, 0, -1],\n",
       " [0, 0, 0, 1, -1],\n",
       " [0, 0, 0, 0,  0]]),\n",
       " (0, 1, 2, 3))"
      ]
     },
     "execution_count": 12,
     "metadata": {},
     "output_type": "execute_result"
    }
   ],
   "source": [
    "a.rref()"
   ]
  },
  {
   "cell_type": "code",
   "execution_count": 13,
   "metadata": {},
   "outputs": [
    {
     "data": {
      "text/latex": [
       "$\\displaystyle \\left[\\begin{matrix}0\\\\0\\\\0\\\\0\\\\0\\end{matrix}\\right]$"
      ],
      "text/plain": [
       "Matrix([\n",
       "[0],\n",
       "[0],\n",
       "[0],\n",
       "[0],\n",
       "[0]])"
      ]
     },
     "execution_count": 13,
     "metadata": {},
     "output_type": "execute_result"
    }
   ],
   "source": [
    "a*b"
   ]
  },
  {
   "cell_type": "code",
   "execution_count": 61,
   "metadata": {},
   "outputs": [],
   "source": [
    "x = sp.Matrix([[11,12,-1,192],\n",
    "               [-88,-96,21,-192],\n",
    "               [99,108,-22,384]])"
   ]
  },
  {
   "cell_type": "code",
   "execution_count": 58,
   "metadata": {},
   "outputs": [
    {
     "data": {
      "text/plain": [
       "1848"
      ]
     },
     "execution_count": 58,
     "metadata": {},
     "output_type": "execute_result"
    }
   ],
   "source": [
    "3*7*8*11"
   ]
  },
  {
   "cell_type": "code",
   "execution_count": 62,
   "metadata": {},
   "outputs": [],
   "source": [
    "y = x"
   ]
  },
  {
   "cell_type": "code",
   "execution_count": 63,
   "metadata": {},
   "outputs": [
    {
     "data": {
      "text/plain": [
       "(Matrix([\n",
       " [1, 12/11, 0, 3840/143],\n",
       " [0,     0, 1,  1344/13],\n",
       " [0,     0, 0,        0]]),\n",
       " (0, 2))"
      ]
     },
     "execution_count": 63,
     "metadata": {},
     "output_type": "execute_result"
    }
   ],
   "source": [
    "y.rref()"
   ]
  },
  {
   "cell_type": "code",
   "execution_count": 23,
   "metadata": {},
   "outputs": [],
   "source": [
    "z = sp.Matrix([[493/35,258/35,30/7,15/7,-976/35],\n",
    "              [-4/3,-2/3,-1/3,-2/3,8/3],\n",
    "              [-3/2,-13/16,-1/2,-3/16,3],\n",
    "              [56,30,19,7,-112]])"
   ]
  },
  {
   "cell_type": "code",
   "execution_count": 27,
   "metadata": {},
   "outputs": [],
   "source": [
    "zz = z*35*3*16"
   ]
  },
  {
   "cell_type": "code",
   "execution_count": 31,
   "metadata": {},
   "outputs": [
    {
     "data": {
      "text/plain": [
       "(Matrix([\n",
       " [1, 0, 0, 0,  -1.51541850220264],\n",
       " [0, 1, 0, 0,  -0.52863436123348],\n",
       " [0, 0, 1, 0,  -0.52863436123348],\n",
       " [0, 0, 0, 1, -0.176211453744493]]),\n",
       " (0, 1, 2, 3))"
      ]
     },
     "execution_count": 31,
     "metadata": {},
     "output_type": "execute_result"
    }
   ],
   "source": [
    "zz.rref()"
   ]
  },
  {
   "cell_type": "code",
   "execution_count": 29,
   "metadata": {},
   "outputs": [
    {
     "data": {
      "text/plain": [
       "(Matrix([\n",
       " [1, 0, 0, 0,  -1.51541850220264],\n",
       " [0, 1, 0, 0,  -0.52863436123348],\n",
       " [0, 0, 1, 0,  -0.52863436123348],\n",
       " [0, 0, 0, 1, -0.176211453744493]]),\n",
       " (0, 1, 2, 3))"
      ]
     },
     "execution_count": 29,
     "metadata": {},
     "output_type": "execute_result"
    }
   ],
   "source": [
    "z.rref()"
   ]
  },
  {
   "cell_type": "code",
   "execution_count": 30,
   "metadata": {},
   "outputs": [
    {
     "data": {
      "text/latex": [
       "$\\displaystyle \\left[\\begin{matrix}23664.0 & 12384.0 & 7200.0 & 3600.0 & -46848.0\\\\-2240.0 & -1120.0 & -560.0 & -1120.0 & 4480.0\\\\-2520.0 & -1365.0 & -840.0 & -315.0 & 5040\\\\94080 & 50400 & 31920 & 11760 & -188160\\end{matrix}\\right]$"
      ],
      "text/plain": [
       "Matrix([\n",
       "[23664.0, 12384.0, 7200.0,  3600.0, -46848.0],\n",
       "[-2240.0, -1120.0, -560.0, -1120.0,   4480.0],\n",
       "[-2520.0, -1365.0, -840.0,  -315.0,     5040],\n",
       "[  94080,   50400,  31920,   11760,  -188160]])"
      ]
     },
     "execution_count": 30,
     "metadata": {},
     "output_type": "execute_result"
    }
   ],
   "source": [
    "zz"
   ]
  },
  {
   "cell_type": "code",
   "execution_count": 32,
   "metadata": {},
   "outputs": [
    {
     "data": {
      "text/plain": [
       "27.885714285714283"
      ]
     },
     "execution_count": 32,
     "metadata": {},
     "output_type": "execute_result"
    }
   ],
   "source": [
    "493/35+258/35+30/7+15/7\n"
   ]
  },
  {
   "cell_type": "code",
   "execution_count": 33,
   "metadata": {},
   "outputs": [
    {
     "data": {
      "text/plain": [
       "27.885714285714286"
      ]
     },
     "execution_count": 33,
     "metadata": {},
     "output_type": "execute_result"
    }
   ],
   "source": [
    "976/35"
   ]
  },
  {
   "cell_type": "code",
   "execution_count": 34,
   "metadata": {},
   "outputs": [
    {
     "data": {
      "text/latex": [
       "$\\displaystyle \\left[\\begin{matrix}5 & -2 & -1 & -1 & -1\\\\-2 & 6 & -2 & -1 & -1\\\\-1 & -2 & 6 & -2 & -1\\\\-1 & -1 & -2 & 6 & -2\\\\-1 & -1 & -1 & -2 & 5\\end{matrix}\\right]$"
      ],
      "text/plain": [
       "Matrix([\n",
       "[ 5, -2, -1, -1, -1],\n",
       "[-2,  6, -2, -1, -1],\n",
       "[-1, -2,  6, -2, -1],\n",
       "[-1, -1, -2,  6, -2],\n",
       "[-1, -1, -1, -2,  5]])"
      ]
     },
     "execution_count": 34,
     "metadata": {},
     "output_type": "execute_result"
    }
   ],
   "source": [
    "a"
   ]
  },
  {
   "cell_type": "code",
   "execution_count": 35,
   "metadata": {},
   "outputs": [
    {
     "data": {
      "text/latex": [
       "$\\displaystyle \\left[\\begin{matrix}1\\\\1\\\\1\\\\1\\\\1\\end{matrix}\\right]$"
      ],
      "text/plain": [
       "Matrix([\n",
       "[1],\n",
       "[1],\n",
       "[1],\n",
       "[1],\n",
       "[1]])"
      ]
     },
     "execution_count": 35,
     "metadata": {},
     "output_type": "execute_result"
    }
   ],
   "source": [
    "b"
   ]
  },
  {
   "cell_type": "code",
   "execution_count": null,
   "metadata": {},
   "outputs": [],
   "source": []
  }
 ],
 "metadata": {
  "kernelspec": {
   "display_name": "Python 3",
   "language": "python",
   "name": "python3"
  },
  "language_info": {
   "codemirror_mode": {
    "name": "ipython",
    "version": 3
   },
   "file_extension": ".py",
   "mimetype": "text/x-python",
   "name": "python",
   "nbconvert_exporter": "python",
   "pygments_lexer": "ipython3",
   "version": "3.7.6"
  }
 },
 "nbformat": 4,
 "nbformat_minor": 4
}
